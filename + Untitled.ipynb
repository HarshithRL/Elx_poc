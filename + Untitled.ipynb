{
 "cells": [
  {
   "cell_type": "markdown",
   "metadata": {},
   "source": [
    "# page by page"
   ]
  },
  {
   "cell_type": "code",
   "execution_count": 4,
   "metadata": {},
   "outputs": [
    {
     "name": "stdout",
     "output_type": "stream",
     "text": [
      "\": Production (Net), : January 24, : Actual, : kboepd, Actual: 78.0, Business Plan Variance: 86.3 -9.7%\" \": Year To Date, : Actual, : kboepd, Actual: 83.7, Business Plan Variance: 86.6 -3.4%\" \": FY 24 Annual, : Forecast, : kboepd, Actual: 82.9, Business Plan Variance: 86.3 -4.0%\" \": Production (Gross), : January 24, : Actual, : kboepd, Actual: 121.3, Business Plan Variance: 135.7 -10.6%\" \": Year To Date, : Actual, : kboepd, Actual: 130.8, Business Plan Variance: 135.1 -3.2%\" \": FY 24 Annual, : Forecast, : kboepd, Actual: 129.4, Business Plan Variance: 134.8 -4.0%\" \": Year To Date, : Actual, : Million USD, Actual: 357, Business Plan Variance: 381 -6.2%\" \": 2023 Annual, : Forecast, : Million USD, Actual: 433, Business Plan Variance: 460 -5.8%\" \": Operating Cost\" \": Year To Date - Unit, : Actual, : USD/boe, Actual: 14.0, Business Plan Variance: 14.4 -2.9%\" \": 2023 Annual - Unit, : Forecast, : USD/boe, Actual: 14.3, Business Plan Variance: 14.6 -2.0%\" \": LTIR, : TRIR, Actual: Million Manhours, Business Plan Variance: Incidents this month\" \"Business Plan Variance: TRI: 2 Medical Treatment Injuries\" \"Business Plan Variance: a) IP hit his forehead while carrying a revolving chair\" \"Business Plan Variance: b) While cutting the piece of grating with Grinder machine, it j\" \"Business Plan Variance: against the grating and hit on the left shoulder of the IP.\" \": Safety Performance, : Year To Date, : 0.08, : 0.16, Actual: 24.48, Business Plan Variance: HIPO: 2\"\n",
      "--------------------------------------------------\n",
      "\"Personnel Safety: Incident Rates (FY'24 rolling average), : Actual, Δ Industry: 2022 average\" \"HSE Statistics – Year to Date: Lost Time Incident Rate (LTIR), : 0.058, Δ Industry: -0.222\" \"HSE Statistics – Year to Date: Total Recordable Incident Rate (TRIR), : 0.11, Δ Industry: -0.79\" \": 0.9\" \"HSE Statistics – Year to Date: HiPo, : 12, Δ Industry: NA\" \"HSE Statistics – Year to Date: Spills and Loss of Containment\" \"HSE Statistics – Year to Date: Environmental Spills, : Loss of Primary Containment\" \"Personnel Safety: 0.3 0.3\" \"Personnel Safety: 0.2, HSE Statistics – Year to Date: Year to Date, : (LOPC)\" \"Personnel Safety: 0.15 0.12 0.1 0.16, : 0.15, : 0.13, : 0.11, : 0.28, Δ Industry: Tier-1 Tier-2\" \"Personnel Safety: 0.08, : 0.06, : 0.06, HSE Statistics – Year to Date: 29\" \"HSE Statistics – Year to Date: 14, : 1\" \"Δ Industry: 2\" \"Personnel Safety: LTIFR, : TRIFR\" \"HSE Statistics – Year to Date: 2, : 1\" \"Personnel Safety: LTIFR 2022 IOGP Industry Average, : TRIFR 2022 IOGP Industry Average, : 0\" \"Personnel Safety: FY23-24Safety Incidents, : aH) CiPT oUnit Gin PoTleR Ientangled LtoT I, HSE Statistics – Year to Date: Oil Spills Chemical Spills Hydrocarbon leaks, : FY21-22 FY22-23\" \"Personnel Safety: a) IP hit his forehead while carrying a, : safety net of OHL during movement\" \"Personnel Safety: revolving chair, : from RWP-07 to RWP-01.\" \"Personnel Safety: b) While cutting the piece of grating, : b) Hydrant Landing valve spindle rod, HSE Statistics – Year to Date: HSE Assurance Activities\" \"Personnel Safety: -\" \"Personnel Safety: with Grinder machine (AG07 Model,, : with checknuts detached from the\" \"Personnel Safety: 1, HSE Statistics – Year to Date: HSE Audits\" \"Personnel Safety: it jerked back against the grating and, : hydrant post, while taking it into\" \"Personnel Safety: hit on the left shoulder of the IP 2, : operation at Raag Oil 01, Δ Industry: VSAP\" \"Personnel Safety: 1 1\" \"HSE Statistics – Year to Date: 21\" \": 0-, Δ Industry: Internal\" \"Personnel Safety: 1 3\" \"Personnel Safety: 2 2 2, : 2, Δ Industry: External\" \"Personnel Safety: 1\" \"Personnel Safety: 0 0\" \"Personnel Safety: 0 0, : 0-, : 0-, : 6\" \"Personnel Safety: Apr-23 May-23 Jun-23 Jul-23 Aug-23 Sep-23 Oct-23 Nov-23, : Dec-23, : Jan-24, : Feb-24 Mar-24\" \"HSE Statistics – Year to Date: 2, : 2\" \"HSE Statistics – Year to Date: FY 23-24, : Jan'24\" \"HSE Statistics – Year to Date: CAIRN MONTHLY PRODUCTION REPORT- JANUARY 24, : 3.0\"\n",
      "--------------------------------------------------\n",
      "\"LTIFR 2022: IOGP, TRIFR 2022: IOGP, : HiPo, : TRI, : LTI\" \": Last 12, LTIFR 2022: Industry, TRIFR 2022: Industry, : Apr-23, : 1, : 1, : 1\" \": Months, : LTIFR, : TRIFR, LTIFR 2022: Average, TRIFR 2022: Average, : May-23, : 2, : 1, : 1\" \": Column1, : Column2, : Column3, LTIFR 2022: Column4, TRIFR 2022: Column5, : Jun-23, : 3, : 0, : 0\" \": Apr-23, : 0.3, : 0.3, LTIFR 2022: 0.28, TRIFR 2022: 0.9, : Jul-23, : 2.0, : 0, : 0\" \": May-23, : 0.3, : 0.3, LTIFR 2022: 0.28, TRIFR 2022: 0.9, : Aug-23, : 0, : 0, : 0\" \": Jun-23, : 0.2, : 0.2, LTIFR 2022: 0.28, TRIFR 2022: 0.9, : Sep-23, : 0, : 0, : 0\" \": Jul-23, : 0.15, : 0.15, LTIFR 2022: 0.28, TRIFR 2022: 0.9, : Oct-23, : 2, : 2, : -\" \": Aug-23, : 0.12, : 0.12, LTIFR 2022: 0.28, TRIFR 2022: 0.9, : Nov-23, : 0, : -, : -\" \": Sep-23, : 0.1, : 0.1, LTIFR 2022: 0.28, TRIFR 2022: 0.9, : Dec-23, : 2.0, : 0, : -\" \": Oct-23, : 0.08, : 0.16, LTIFR 2022: 0.28, TRIFR 2022: 0.9, : Jan-24, : 0, : -, : -\" \": Nov-23, : 0.07, : 0.15, LTIFR 2022: 0.28, TRIFR 2022: 0.9, : Feb-24\" \": Dec-23, : 0.06, : 0.13, LTIFR 2022: 0.28, TRIFR 2022: 0.9, : Mar-24\" \": Jan-24, : 0.058, : 0.11, LTIFR 2022: 0.28, TRIFR 2022: 0.9\" \": Feb-24, LTIFR 2022: 0.28, TRIFR 2022: 0.9\" \": Mar-24, LTIFR 2022: 0.28, TRIFR 2022: 0.9, : HSE Audits\" \"LTIFR 2022: IOGP, TRIFR 2022: IOGP, : HiPo, : TRI, : LTI\" \": Last 12, LTIFR 2022: Industry, TRIFR 2022: Industry, : Apr-23, : 1, : 1, : 1\" \": Months, : LTIFR, : TRIFR, LTIFR 2022: Average, TRIFR 2022: Average, : May-23, : 2, : 1, : 1\" \": Column1, : Column2, : Column3, LTIFR 2022: Column4, TRIFR 2022: Column5, : Jun-23, : 3, : 0, : 0\" \": Apr-23, : 0.3, : 0.3, LTIFR 2022: 0.28, TRIFR 2022: 0.9, : Jul-23, : 2.0, : 0, : 0\" \": May-23, : 0.3, : 0.3, LTIFR 2022: 0.28, TRIFR 2022: 0.9, : Aug-23, : 0, : 0, : 0\" \": Jun-23, : 0.2, : 0.2, LTIFR 2022: 0.28, TRIFR 2022: 0.9, : Sep-23, : 0, : 0, : 0\" \": Jul-23, : 0.15, : 0.15, LTIFR 2022: 0.28, TRIFR 2022: 0.9, : Oct-23, : 2, : 2, : -\" \": Aug-23, : 0.12, : 0.12, LTIFR 2022: 0.28, TRIFR 2022: 0.9, : Nov-23, : 0, : -, : -\" \": Sep-23, : 0.1, : 0.1, LTIFR 2022: 0.28, TRIFR 2022: 0.9, : Dec-23, : 2.0, : 0, : -\" \": Oct-23, : 0.08, : 0.16, LTIFR 2022: 0.28, TRIFR 2022: 0.9, : Jan-24, : 0, : -, : -\" \": Nov-23, : 0.07, : 0.15, LTIFR 2022: 0.28, TRIFR 2022: 0.9, : Feb-24\" \": Dec-23, : 0.06, : 0.13, LTIFR 2022: 0.28, TRIFR 2022: 0.9, : Mar-24\" \": FY 23-24, VSAP: 2, Internal: 21, External: 12, : 35\" \": Jan'24, VSAP: 2, Internal: 6, External: 1, : 9\" \": FY'24, LTIFR: 0.058, TRIFR: 0.11, Million Mahours: 34.2, : FY21-22, Tier-1: 1, Tier-2: 1\" \": FY'24, LTIFR: 0.058, TRIFR: 0.11, Million Mahours: 34.2, : FY21-22, Tier-1: 1, Tier-2: 1\" \": FY22-23, Tier-1: 0, Tier-2: 0\" \": FY23-24, Tier-1: 0, Tier-2: 2\" \": Oil Spills, c: 2\" \": Chemical Spills, c: 14\" \": Hydrocarbon leaks, c: 29\"\n",
      "--------------------------------------------------\n",
      "\"RJ North: Achieved ~112% of: BP.\" \"RJ North: Achieved ~112% of: RJ South: Achieved ~87.8% of\" \": 51.5\" \"RJ North: Achieved ~112% of: BP.\" \"RJ North: Achieved ~112% of: Coastal:  Achieved 81.2%, : 27.8\" \"RJ North: Achieved ~112% of: Hazarigaon: Achieved ~33% of, : 18.2, : 17.0\" \"RJ North: Achieved ~112% of: BP., : 8.2 8.7, : 5.5, : 8.3\" \": 1.2, : 1.2, : 0.0, : 2.4, : 2.9, : 0.8, : 2.2\" \": Cairn, : RJ North, : Mangala, : Bhagyam AishwariyaTight Oil, : Others, : RJ South, : RDG, : Satellite, : Hazarigaon, : Coastal, : Ravva, : Cambay, : NGL, : Jaya\" \": 82.0, : 80.7, RJ South: Volumes are lower than: BP mainly due to Satellite Wells\" \": 78.5, : 78.0, RJ South: Volumes are lower than: poor perfromance, combined with\" \"RJ South: Volumes are lower than: RDG Wells perfromance\" \"RJ South: Volumes are lower than: Coastal: Volumes are lower  due\" \"RJ South: Volumes are lower than: to lower well  deliverability in\" \": Apr'24, : May'24, : Jun'24, : Jul'24, : Aug'24, 84.5: Sep'24, : Oct'24, : Nov'24, : Dec'24, : Jan'24, : Feb'24, : Mar'24, RJ South: Volumes are lower than: Ravva (RB 3st, RF-8), Cambay (LB\" \": Month Actual kboepd, Cairn: 78.0, RJ North: 51.5, Mangala: 27.8, Bhagyam AishwariyaTight Oil: 8.2 8.7 5.5, Others: 1.2, RJ South: 18.2, RDG: 17.0, Satellite: 1.2, Hazarigaon Coastal: 0.0 8.3, Ravva: 2.4, Cambay NGL: 2.9 0.8, Jaya: 2.2\" \": Month BP kboepd, Cairn: 86.3, RJ North: 55.1, Mangala: 28.2, Bhagyam AishwariyaTight Oil: 7.6 12.4 5.7, Others: 1.2, RJ South: 21.2, RDG: 18.3, Satellite: 3.0, Hazarigaon Coastal: 0.6 9.4, Ravva: 2.6, Cambay NGL: 4.1 1.5, Jaya: 1.1\" \": Variance (%), Cairn: -9.7%, RJ North: -6.6%, Mangala: -1.4%, Bhagyam AishwariyaTight Oil: +8.0% -30.0% -2.5%, Others: +2.8%, RJ South: -14.3%, RDG: -7.1%, Satellite: -58.6%, Hazarigaon Coastal: -100.0% -11.5%, Ravva: -6.4%, Cambay NGL: -30.3% -49.0%, Jaya: +95.4%\" \": Variance (kboepd), Cairn: -8.3, RJ North: -3.6, Mangala: -0.4, Bhagyam AishwariyaTight Oil: +0.6 -3.7 -0.1, Others: +0.0, RJ South: -3.0, RDG: -1.3, Satellite: -1.8, Hazarigaon Coastal: -0.6 -1.1, Ravva: -0.2, Cambay NGL: -1.3 -0.7, Jaya: +1.1\" \"Hazarigaon Coastal: BP Production, Cambay NGL: Key Levers:\" \"Cambay NGL: RJ_North: Volumes are mainly due\" \"Cairn: 86.8, RJ North: 86.1, Mangala: 88.4, Bhagyam AishwariyaTight Oil: 88.4, Cambay NGL: to  AUF 25 Inejction  delay &\" \"Bhagyam AishwariyaTight Oil: 86.7, Cambay NGL: Bhgayam BDZ Delay\" \"Bhagyam AishwariyaTight Oil: 84.5, Cambay NGL: RJ South: Volumes are lower than\" \"Ravva (RB 3st, RF-8), Cambay (L: 13, GA-05) and Nagylanka Well\" \": Production, : kboepd, Apr'24: 86.8, May'24: 86.1, Jun'24: 88.4, Jul'24: 88.4, Aug'24: 86.7, Sep'24: 84.5, Oct'24: 82.0, Nov'24: 80.7, Dec'24: 78.5, Jan'24: 78.0, Ravva (RB 3st, RF-8), Cambay (L: delay\" \"Ravva (RB 3st, RF-8), Cambay (L: Hazarigaon: No Production duri\" \": BP, : kboepd, Apr'24: 90.2, May'24: 89.6, Jun'24: 87.9, Jul'24: 87.0, Aug'24: 87.0, Sep'24: 86.3, Oct'24: 87.3, Nov'24: 87.2, Dec'24: 77.3, Jan'24: 86.3, Feb'24: 85.7, Mar'24: 84.0, Ravva (RB 3st, RF-8), Cambay (L: the month due to no gas offtake\"\n",
      "--------------------------------------------------\n",
      "\"RJ North: Achieved ~112%: of BP.\" \"RJ North: Achieved ~112%: RJ South: Achieved ~87.8%, : 73.5\" \"RJ North: Achieved ~112%: of BP.\" \"RJ North: Achieved ~112%: Coastal:  Achieved 81.2%, : 39.7\" \"RJ North: Achieved ~112%: Hazarigaon: Achieved ~33%, : 26.0, : 24.2, : 21.8\" \"RJ North: Achieved ~112%: of BP., : 11.7, : 12.4 7.9, : 1.8, : 1.8, : 0.0, : 10.8, : 7.2, : 1.5, : 2.2\" \": Cairn, : RJ North, : Mangala, : Bhagyam, : AishwariyaTight Oil, : Others, : RJ South, : RDG, : Satellite, : HazarigaoCnoastal, : Ravva, : Cambay, : NGL, : Jaya\" \": 127.4\" \"BP mainly due to Satellite Wells: poor perfromance, combined\" \": 121.3, : 121.3, : 121.3, BP mainly due to Satellite Wells: with RDG Wells perfromance\" \"BP mainly due to Satellite Wells: Coastal: Volumes are lower  due\" \"BP mainly due to Satellite Wells: to lower well  deliverability in\" \"BP mainly due to Satellite Wells: Ravva (RB 3st, RF-8), Cambay\" \"BP mainly due to Satellite Wells: (LB 13, GA-05) and Nagylanka\" \": Apr'24, : May'24, : Jun'24, : Jul'24, : Aug'24, : Sep'24, : Oct'24, : Nov'24, : Dec'24, : Jan'24, : Feb'24, : Mar'24\" \": Month Actual kboepd, Cairn: 121.3, RJ North: 73.5, Mangala: 39.7, Bhagyam: 11.7, AishwariyaTight Oil: 12.4 7.9, Others: 1.8, RJ South: 26.0, RDG: 24.2, Satellite: 1.8, HazarigaoCnoastal: 0.0 21.8, Ravva: 10.8, Cambay NGL: 7.2 1.5, Jaya: 2.2\" \": Month BP kboepd, Cairn: 135.7, RJ North: 78.7, Mangala: 40.3, Bhagyam: 10.9, AishwariyaTight Oil: 17.7 8.1, Others: 1.7, RJ South: 30.4, RDG: 26.1, Satellite: 4.3, HazarigaoCnoastal: 0.6 26.1, Ravva: 11.6, Cambay NGL: 10.4 3.0, Jaya: 1.1\" \": Variance (%), Cairn: -10.6%, RJ North: -6.6%, Mangala: -1.4%, Bhagyam: +8.0%, AishwariyaTight Oil: -30.0% -2.5%, Others: +2.8%, RJ South: -14.3%, RDG: -7.1%, Satellite: -58.6%, HazarigaoCnoastal: -100.0% -16.5%, Ravva: -6.4%, Cambay NGL: -30.3% -49.0%, Jaya: +95.4%\" \": Variance (kboepd), Cairn: -14.4, RJ North: -5.2, Mangala: -0.6, Bhagyam: +0.9, AishwariyaTight Oil: -5.3 -0.2, Others: +0.0, RJ South: -4.4, RDG: -1.8, Satellite: -2.5, HazarigaoCnoastal: -0.6 -4.3, Ravva: -0.7, Cambay NGL: -3.1 -1.5, Jaya: +1.1\" \"Cambay NGL: Key Levers:\" \"Cambay NGL: RJ_North: Volumes are mainly\" \"Satellite: BP, HazarigaoCnoastal: Production, Cambay NGL: due to  AUF 25 Inejction  delay &\" \"Cairn: 136.7, RJ North: 135.7, Mangala: 134.5, Bhagyam: 139.0, AishwariyaTight Oil: 135.7, Cambay NGL: Bhgayam BDZ Delay\" \"Cambay NGL: RJ South: Volumes are lower than\" \"AishwariyaTight Oil: 131.1, Cambay NGL: BP mainly due to Satellite Wells\"\n",
      "--------------------------------------------------\n",
      "\": GHG, : LPG/Prop, : Electricity, : GHG, : LPG/Prop, : Electricity\" \"Absolute: Emissions, Gas: Consump, Gas.1: Flaring & Diesel, Absolute.1: Emissions, Gas.2: Consump, Gas.3: Flaring & Diesel\" \": Emission, : ane, : from Grid, : Emission, : ane, : from Grid\" \"Absolute: (Scope 1, Gas: tion, Gas.1: Venting (Scope 1), Absolute.1: (Scope 1, Gas.2: tion, Gas.3: Venting (Scope 1)\" \": Intensity, : (Scope 1), : (Scope 2), : Intensity), : (Scope 1), : (Scope 2)\" \"Absolute: + 2), Gas: (Scope 1), Gas.1: (Scope 1), Absolute.1: + 2), Gas.2: (Scope 1), Gas.3: (Scope 1)\" \": kg, : kg\" \"Gas.1: tonnes of CO2e, Gas.3: tonnes of CO2e\" \": CO2/boe, : CO2/boe\" \"Gas.1: RJ North, Gas.3: RJ South\" \": Apr-23, : 52, Absolute: 138639, Gas: 85485, Gas.1: 29347 2326, : 16, : 21465, : 17, Absolute.1: 17489, Gas.2: 2395, Gas.3: 5458 852, : 3, : 8782\" \": May-23, : 52, Absolute: 144276, Gas: 92140, Gas.1: 30502 2312, : 15, : 19307, : 18, Absolute.1: 18865, Gas.2: 4587, Gas.3: 6477 950, : 4, : 6847\" \": Jun-23, : 52, Absolute: 137178, Gas: 90885, Gas.1: 28617 2329, : 15, : 15332, : 18, Absolute.1: 18151, Gas.2: 3990, Gas.3: 5632 931, : 3, : 7594\" \": Jul-23, : 53, Absolute: 149896, Gas: 96816, Gas.1: 33057 3005, : 16, : 17001, : 17, Absolute.1: 18525, Gas.2: 3726, Gas.3: 5551 404, : 4, : 8840\" \": Aug-23, : 54, Absolute: 145702, Gas: 94393, Gas.1: 31924 2695, : 18, : 16673, : 18, Absolute.1: 19123, Gas.2: 2920, Gas.3: 5619 736, : 5, : 9842\" \": Sep-23, : 54, Absolute: 138440, Gas: 89401, Gas.1: 28438 3771, : 15, : 16815, : 19, Absolute.1: 19588, Gas.2: 2552, Gas.3: 6390 848, : 4, : 9794\" \": Oct-23, : 52, Absolute: 135252, Gas: 88744, Gas.1: 26958 2777, : 16, : 16757, : 19, Absolute.1: 18694, Gas.2: 2740, Gas.3: 5286 871, : 3, : 9794\" \": Nov-23, : 53, Absolute: 132111, Gas: 84224, Gas.1: 26960 1887, : 16, : 19024, : 19, Absolute.1: 18042, Gas.2: 2763, Gas.3: 5328 769, : 3, : 9179\" \": Dec-23, : 54, Absolute: 133631, Gas: 84248, Gas.1: 26897 2273, : 14, : 20199, : 21, Absolute.1: 19614, Gas.2: 3216, Gas.3: 5801 1309, : 3, : 9286\" \": Jan-24, : 53, Absolute: 131867, Gas: 78736, Gas.1: 26824 2316, : 15, : 23976, : 22, Absolute.1: 17687, Gas.2: 6383, Gas.3: 4558 724, : 3, : 6019\" \": Feb-24, : 53, Absolute: 131824, Gas: 79440, Gas.1: 28344 1793, : 16, : 22232, : 15, Absolute.1: 14649, Gas.2: 2929, Gas.3: 2605 1091, : 23, : 8000\" \": Mar-24, : 54, Absolute: 140642, Gas: 84481, Gas.1: 30279 2104, : 16, : 23762, : 14, Absolute.1: 14285, Gas.2: 3200, Gas.3: 1919 1091, : 23, : 8052\" \": YTD FY24, : 53, Absolute: 287074, Gas: 187701, Gas.1: 61674 5335, : 31, : 32332, : 17, Absolute.1: 36676, Gas.2: 7716, Gas.3: 11183 1335, : 8, : 16434\" \": Apr-23, : 14, : 5905, : 5510, Cambay: 78, : 314, : 3, : 0, : 18, : 10316, : 8718, Ravva: 1303, : 283, : 5, : 6\" \": May-23, : 14, : 6094, : 5606, Cambay: 77, : 407, : 4, : 0, : 16, : 10836, : 9198, Ravva: 1364, : 262, : 5, : 6\" \": Jun-23, : 14, : 5788, : 5510, Cambay: 117, : 158, : 3, : 0, : 18, : 10787, : 9338, Ravva: 1202, : 235, : 4, : 7\" \": Jul-23, : 15, : 6024, : 5755, Cambay: 85, : 180, : 4, : 0, : 18, : 11296, : 9758, Ravva: 1302, : 226, : 4, : 5\" \": Aug-23, : 15, : 5922, : 5651, Cambay: 88, : 180, : 3, : 0, : 17, : 10199, : 8747, Ravva: 1195, : 247, : 4, : 6\" \": Sep-23, : 16, : 5692, : 5431, Cambay: 96, : 163, : 3, : 0, : 18, : 9254, : 7329, Ravva: 1629, : 286, : 6, : 5\" \": Oct-23, : 18, : 5924, : 5630, Cambay: 112, : 179, : 3, : 0, : 17, : 9710, : 7959, Ravva: 1481, : 260, : 4, : 5\" \": Nov-23, : 18, : 5670, : 5354, Cambay: 99, : 214, : 3, : 0, : 16, : 8895, : 7516, Ravva: 1143, : 221, : 11, : 4\" \": Dec-23, : 19, : 5883, : 5528, Cambay: 104, : 249, : 3, : 0, : 16, : 9426, : 7686, Ravva: 1398, : 330, : 8, : 3\" \": Jan-24, : 20, : 6016, : 5545, Cambay: 102, : 365, : 3, : 0, : 15, : 9286, : 7842, Ravva: 1206, : 231, : 4, : 3\" \": Feb-24, : 19, : 8046, : 5443, Cambay: 98, : 2503, : 3, : 0, : 17, : 9908, : 8285, Ravva: 1330, : 285, : 5, : 2\" \": Mar-24, : 19, : 8103, : 5443, Cambay: 98, : 2559, : 3, : 0, : 18, : 10779, : 9184, Ravva: 1330, : 257, : 6, : 2\" \": YTD FY24, : 15, : 17787, : 16626, Cambay: 271, : 879, : 10, : 0, : 17, : 31938, : 27254, Ravva: 3870, : 781, : 14, : 19\"\n",
      "--------------------------------------------------\n",
      "\": Apr-23, : 112.0, : 1373.0, : 131.0, Jaya: 1241, : 1.0, : 0.0, : 0, : 8.0, : 9, : 0, Hazarigaon: 1.41, : 8.0, : 0, : 0.1\" \": May-23, : 112.0, : 1427.0, : 132.0, Jaya: 1293, : 1.0, : 0.0, : 0, : 2.0, : 5, : 0, Hazarigaon: 0.0, : 5.0, : 0, : 0.0\" \": Jun-23, : 170.0, : 332.0, : 27.0, Jaya: 296, : 9.0, : 0.0, : 0, : 2.3, : 8, : 0, Hazarigaon: 1.0, : 7.0, : 0, : 0.1\" \": Jul-23, : 688.0, : 72.0, : 35.0, Jaya: 28, : 9.0, : 0.0, : 0, : 2.4, : 10, : 0, Hazarigaon: 0.0, : 10.0, : 0, : 0.1\" \": Aug-23, : 34.0, : 1068.0, : 147.0, Jaya: 921, : 1.0, : 0.0, : 0, : 1.8, : 10, : 0, Hazarigaon: 0.0, : 10.0, : 0, : 0.0\" \": Sep-23, : 23.0, : 1034.0, : 191.0, Jaya: 842, : 1.0, : 0.0, : 0, : 1.9, : 11, : 0, Hazarigaon: 0.0, : 11.0, : 0, : 0.0\" \": Oct-23, : 21.0, : 953.0, : 214.0, Jaya: 732, : 7.0, : 0.0, : 0, : 2.1, : 11, : 0, Hazarigaon: 0.0, : 11.0, : 0, : 0.0\" \": Nov-23, : 17.5775, : 811.052, : 182.636, Jaya: 621.021, : 7.39289, : 0.00211, : 0, : 2.0, : 12, : 0, Hazarigaon: 0.0, : 11.4, : 0, : 0.1\" \": Dec-23, : 29.6712, : 1922.34, : 171.372, Jaya: 1,751, : 0.36745, : 0.00193, : 0, : 3.1, : 6, : 0, Hazarigaon: 0.0, : 6.4, : 0, : 0.0\" \": Jan-24, : 31.508, : 2294.31, : 162.0, Jaya: 2131.31, : 1.0, : 0.00193, : 0, : 1, : 0, Hazarigaon: 0.0, : 1.1, : 0, : 0.0\" \": Feb-24, : 43.0, : 3357.0, : 152.0, Jaya: 3194, : 11.0, : 0.0, : 0, : 0.4, : 7, : 0, Hazarigaon: 0.0, : 7.1, : 0, : 0.1\" \": Mar-24, : 40.0, : 3357.0, : 152.0, Jaya: 3194, : 11.0, : 0.0, : 0, : 0.4, : 7, : 0, Hazarigaon: 0.0, : 7.1, : 0, : 0.1\" \": YTD FY24, : 51.0, : 3132.0, : 290.0, Jaya: 2830, : 11.0, : 0.0, : 0, : 4.0, : 22, : 0, Hazarigaon: 2.0, : 20.0, : 0, : 0.0\"\n",
      "--------------------------------------------------\n",
      "\n",
      "--------------------------------------------------\n",
      "\"30: Apr, 31: May, 30.1: Jun, 31.1: Jul, 31.2: Aug, 30.2: Sep, 31.3: Oct, 30.3: Nov, 31.4: Dec, 31.5: Jan, 29: Feb, 31.6: Mar, : FY-24 Est, : YTD FY24\" \": Re-Forecast, 30: 864, 31: 836, 30.1: 785, 31.1: 771, 31.2: 1373, 30.2: 1435, 31.3: 1397, 30.3: 1167, 31.4: 1215, 31.5: 1518, 29: 1296, 31.6: 1178\" \": Actuals, 30: 838, 31: 813, 30.1: 751, 31.1: 1392, 31.2: 1225, 30.2: 1063, 31.3: 1184, 30.3: 1172, 31.4: 1215, 31.5: 1543, 29: 1296, 31.6: 1178, : 1140, : 1122\" \": Business Plan, 30: 776, 31: 1578, 30.1: 1551, 31.1: 1547, 31.2: 1537, 30.2: 2298, 31.3: 2769, 30.3: 3066, 31.4: 3063, 31.5: 3027, 29: 2929, 31.6: 2938, : 2257, : 2124\" \": Month, 30: Apr-23, 31: May-23, 30.1: Jun-23, 31.1: Jul-23, 31.2: Aug-23, 30.2: Sep-23, 31.3: Oct-23, 30.3: Nov-23, 31.4: Dec-23, 31.5: Jan-24, 29: Feb-24, 31.6: Mar-24, : FY-24 Est\" \": Variance, 30: 62, 31: -765, 30.1: -800, 31.1: -155, 31.2: -312, 30.2: -1235, 31.3: -1585, 30.3: -1894, 31.4: -1848, 31.5: -1484, 29: -1633, 31.6: -1760, : -1116, : -1002\" \"Month: Actual, Apr-23: 100.0%, May-23: 100.0%, Jun-23: 100.0%, Jul-23: 100.0%, Aug-23: 100.0%, Sep-23: 100.0%, Oct-23: 100.0%, Nov-23: 100.0%, Dec-23: 100.0%, Jan-24: 100.0%, FY-24 Est: 100.0%\" \"Month: Forecast, Apr-23: 100.0%, May-23: 100.0%, Jun-23: 100.0%, Jul-23: 100.0%, Aug-23: 100.0%, Sep-23: 100.0%, Oct-23: 100.0%, Nov-23: 100.0%, Dec-23: 100.0%, Jan-24: 100.0%, Feb-24: 100.0%, Mar-24: 100.0%, FY-24 Est: 100.0%\" \": OPEX MUSD, BP: 0.2, Actual: 0.2\" \": UNIT OPEX USD/boe, BP: 5.0, Actual: 9.8\"\n",
      "--------------------------------------------------\n",
      "\": YTD FY 24 Production, : bopd, : 1011\" \"1000: 500.0\" \": YTD Business Plan, : bopd, : 1127\" \": YTD Variance, : bopd, : -116\" \"1000: 0.0\" \"1000: 307.0, : Apr-23, : May-23, : Jun-23, : Jul-23, : Aug-23, : Sep-23, : Oct-23, : Nov-23, : Dec-23, : Jan-24, : Feb-24, : Mar-24\" \": Production Efficiency\" \": 2023 Actual, : %, : 46.4%\" \"1000: 311.0\"\n",
      "--------------------------------------------------\n",
      "\"30: Apr, 31: May, 30.1: Jun, 31.1: Jul, 31.2: Aug, 30.2: Sep, 31.3: Oct, 30.3: Nov, 31.4: Dec, 31.5: Jan, 29: Feb, 31.6: Mar, : FY-24 Est, : YTD FY24\" \": Re-Forecast, 30: 392, 31: 436, 30.1: 440, 31.1: 747, 31.2: 1126, 30.2: 1440, 31.3: 1367, 30.3: 1423, 31.4: 1647, 31.5: 2230, 29: 2600, 31.6: 2600\" \": Actuals, 30: 307, 31: 311, 30.1: 44, 31.1: 0, 31.2: 950, 30.2: 1446, 31.3: 1418, 30.3: 1478, 31.4: 1951, 31.5: 2183, 29: 2412, 31.6: 2600, : 1257, : 1011\" \": Business Plan, 30: 1129, 31: 1129, 30.1: 1129, 31.1: 1127, 31.2: 1127, 30.2: 1127, 31.3: 1126, 30.3: 1126, 31.4: 1126, 31.5: 1126, 29: 1124, 31.6: 1124, : 1126, : 1127\" \": Month, 30: Apr-23, 31: May-23, 30.1: Jun-23, 31.1: Jul-23, 31.2: Aug-23, 30.2: Sep-23, 31.3: Oct-23, 30.3: Nov-23, 31.4: Dec-23, 31.5: Jan-24, 29: Feb-24, 31.6: Mar-24, : FY-24 Est\" \": Variance, 30: -821, 31: -817, 30.1: -1085, 31.1: -1127, 31.2: -177, 30.2: 319, 31.3: 293, 30.3: 353, 31.4: 826, 31.5: 1058, 29: 1288, 31.6: 1476, : 131, : -116\" \"Month: Actual, Apr-23: 27.2%, May-23: 27.6%, Jun-23: 1.6%, Jul-23: 0.0%, Aug-23: 35.2%, Sep-23: 53.6%, Oct-23: 52.5%, Nov-23: 59.0%, Dec-23: 75.0%, Jan-24: 84.0%, FY-24 Est: 46.4%\" \"Month: Forecast, Apr-23: 34.7%, May-23: 38.6%, Jun-23: 30.0%, Jul-23: 27.0%, Aug-23: 35.2%, Sep-23: 53.6%, Oct-23: 52.5%, Nov-23: 59.0%, Dec-23: 75.0%, Jan-24: 84.0%, Feb-24: 93.0%, Mar-24: 100.0%, FY-24 Est: 56.8%\" \": OPEX MUSD, BP: 0.36, Actual: 0.33\" \": UNIT OPEX USD/boe, BP: 10.56, Actual: 4.83\"\n",
      "--------------------------------------------------\n",
      "Page 1:\n",
      "Content: CAIRN MONTHLY PRODUCTION REPORT- JANUARY 241Monthly Production ReportJanuary 2024 LTIRTRIRYear To DateActualkboepdProduction (Net)January 24ActualkboepdFY 24 Annualkboepd82.9VarianceForecast130.8135.1-3.2%121.3135.7-10.6% Q1 FY24 (Apr-Jun) - 37 kg/boe Q2 FY24 (Jul-Sep) - 38 kg/boe Q3 FY24 (Oct-Dec) - 38 kg/boeYear To Date2023 Annual - UnitActualForecastMillion USDUSD/boe2023 AnnualYear To Date - Unit14.3Actual USD/boe 24.48CO2 Emissionskg CO 2/boe3838Million Manhours January 24Safety PerformanceYear To Date0.080.16YTD ActualOperating Cost433 14.0 Comments this month-2.0%-6.2%381 14.6 Incidents this monthTRI: 2 Medical Treatment Injuries a) IP hit his forehead while carrying a revolving chair b) While cutting the piece of grating with Grinder machine, it jerked back  against the grating and hit on the left shoulder of the IP. HIPO: 2 a) CT Unit Gin Pole entangled to safety net of OHL during movement from  RWP-07 to RWP-01. b) Hydrant Landing valve spindle rod with checknuts detached from the  hydrant post, while taking it into operation at Raag Oil 01.-5.8%-2.9%ForecastMillion USDCairn Oil & Gas 129.478.086.6Year To DateActualkboepdFY 24 AnnualForecastkboepdJanuary 24Production (Gross)Actualkboepd86.3134.8-4.0%460 14.4 357 -4.0%83.786.3-9.7%ActualBusiness Plan-3.4% #Sensitivity: Internal (C3)\n",
      "Tables Content: \": Production (Net), : January 24, : Actual, : kboepd, Actual: 78.0, Business Plan Variance: 86.3 -9.7%\" \": Year To Date, : Actual, : kboepd, Actual: 83.7, Business Plan Variance: 86.6 -3.4%\" \": FY 24 Annual, : Forecast, : kboepd, Actual: 82.9, Business Plan Variance: 86.3 -4.0%\" \": Production (Gross), : January 24, : Actual, : kboepd, Actual: 121.3, Business Plan Variance: 135.7 -10.6%\" \": Year To Date, : Actual, : kboepd, Actual: 130.8, Business Plan Variance: 135.1 -3.2%\" \": FY 24 Annual, : Forecast, : kboepd, Actual: 129.4, Business Plan Variance: 134.8 -4.0%\" \": Year To Date, : Actual, : Million USD, Actual: 357, Business Plan Variance: 381 -6.2%\" \": 2023 Annual, : Forecast, : Million USD, Actual: 433, Business Plan Variance: 460 -5.8%\" \": Operating Cost\" \": Year To Date - Unit, : Actual, : USD/boe, Actual: 14.0, Business Plan Variance: 14.4 -2.9%\" \": 2023 Annual - Unit, : Forecast, : USD/boe, Actual: 14.3, Business Plan Variance: 14.6 -2.0%\" \": LTIR, : TRIR, Actual: Million Manhours, Business Plan Variance: Incidents this month\" \"Business Plan Variance: TRI: 2 Medical Treatment Injuries\" \"Business Plan Variance: a) IP hit his forehead while carrying a revolving chair\" \"Business Plan Variance: b) While cutting the piece of grating with Grinder machine, it j\" \"Business Plan Variance: against the grating and hit on the left shoulder of the IP.\" \": Safety Performance, : Year To Date, : 0.08, : 0.16, Actual: 24.48, Business Plan Variance: HIPO: 2\"\n",
      "==================================================\n",
      "Page 2:\n",
      "Content: CAIRN MONTHLY PRODUCTION REPORT- JANUARY 24312NATotal Recordable Incident Rate (TRIR)ActualΔ Industry 2022 average0.058-0.222Lost Time Incident Rate (LTIR)HiPo HSE Assurance Activities  Spills and Loss of Containment Cairn Oil & GasJanuary 20240.11Personnel SafetyHSE Performance-0.79HSE Statistics – Year to Date 0.080.060.060.30.30.20.150.120.10.160.150.130.110.280.9Incident Rates (FY'24 rolling average) LTIFRTRIFRLTIFR 2022 IOGP Industry AverageTRIFR 2022 IOGP Industry Average1102FY21-22FY22-23FY23-24Tier-1Tier-2Loss of Primary Containment(LOPC) 1232 00202 011002-0-1 1 00- ---Apr-23May-23Jun-23Jul-23Aug-23Sep-23Oct-23Nov-23Dec-23Jan-24Feb-24Mar-24Safety IncidentsHiPoTRILTIa) CT Unit Gin Pole entangled to safety net of OHL during movement from RWP-07 to RWP-01.b) Hydrant Landing valve spindle rod with checknuts detachedfrom the hydrant post, while taking it into operation at Raag Oil 01a) IP hit his forehead while carrying a revolving chairb) While cutting the piece of grating with Grinder machine (AG07 Model,itjerked back against the grating and hit on the left shoulder of the IP21429 Oil SpillsChemical SpillsHydrocarbonleaksEnvironmental SpillsYear to Date 22216FY 23-24Jan'24HSE AuditsVSAPInternalExternal #Sensitivity: Internal (C3)\n",
      "Tables Content: \"Personnel Safety: Incident Rates (FY'24 rolling average), : Actual, Δ Industry: 2022 average\" \"HSE Statistics – Year to Date: Lost Time Incident Rate (LTIR), : 0.058, Δ Industry: -0.222\" \"HSE Statistics – Year to Date: Total Recordable Incident Rate (TRIR), : 0.11, Δ Industry: -0.79\" \": 0.9\" \"HSE Statistics – Year to Date: HiPo, : 12, Δ Industry: NA\" \"HSE Statistics – Year to Date: Spills and Loss of Containment\" \"HSE Statistics – Year to Date: Environmental Spills, : Loss of Primary Containment\" \"Personnel Safety: 0.3 0.3\" \"Personnel Safety: 0.2, HSE Statistics – Year to Date: Year to Date, : (LOPC)\" \"Personnel Safety: 0.15 0.12 0.1 0.16, : 0.15, : 0.13, : 0.11, : 0.28, Δ Industry: Tier-1 Tier-2\" \"Personnel Safety: 0.08, : 0.06, : 0.06, HSE Statistics – Year to Date: 29\" \"HSE Statistics – Year to Date: 14, : 1\" \"Δ Industry: 2\" \"Personnel Safety: LTIFR, : TRIFR\" \"HSE Statistics – Year to Date: 2, : 1\" \"Personnel Safety: LTIFR 2022 IOGP Industry Average, : TRIFR 2022 IOGP Industry Average, : 0\" \"Personnel Safety: FY23-24Safety Incidents, : aH) CiPT oUnit Gin PoTleR Ientangled LtoT I, HSE Statistics – Year to Date: Oil Spills Chemical Spills Hydrocarbon leaks, : FY21-22 FY22-23\" \"Personnel Safety: a) IP hit his forehead while carrying a, : safety net of OHL during movement\" \"Personnel Safety: revolving chair, : from RWP-07 to RWP-01.\" \"Personnel Safety: b) While cutting the piece of grating, : b) Hydrant Landing valve spindle rod, HSE Statistics – Year to Date: HSE Assurance Activities\" \"Personnel Safety: -\" \"Personnel Safety: with Grinder machine (AG07 Model,, : with checknuts detached from the\" \"Personnel Safety: 1, HSE Statistics – Year to Date: HSE Audits\" \"Personnel Safety: it jerked back against the grating and, : hydrant post, while taking it into\" \"Personnel Safety: hit on the left shoulder of the IP 2, : operation at Raag Oil 01, Δ Industry: VSAP\" \"Personnel Safety: 1 1\" \"HSE Statistics – Year to Date: 21\" \": 0-, Δ Industry: Internal\" \"Personnel Safety: 1 3\" \"Personnel Safety: 2 2 2, : 2, Δ Industry: External\" \"Personnel Safety: 1\" \"Personnel Safety: 0 0\" \"Personnel Safety: 0 0, : 0-, : 0-, : 6\" \"Personnel Safety: Apr-23 May-23 Jun-23 Jul-23 Aug-23 Sep-23 Oct-23 Nov-23, : Dec-23, : Jan-24, : Feb-24 Mar-24\" \"HSE Statistics – Year to Date: 2, : 2\" \"HSE Statistics – Year to Date: FY 23-24, : Jan'24\" \"HSE Statistics – Year to Date: CAIRN MONTHLY PRODUCTION REPORT- JANUARY 24, : 3.0\"\n",
      "==================================================\n",
      "Page 3:\n",
      "Content: Personnel Safety DataSafety Incidents HiPoTRILTIApr-2311               1 May-2321               1 Column1Column2Column3Column4Column5Jun-23300Apr-230.30.30.280.9Jul-23               2 00May-230.30.30.280.9Aug-23000Jun-230.20.20.280.9Sep-23000Jul-230.150.150.280.9Oct-2322              -   Aug-230.120.120.280.9Nov-230              -                 -   Sep-230.10.10.280.9Dec-23               2 0              -   Oct-230.080.160.280.9Jan-240              -                 -   Nov-230.070.150.280.9Feb-24Dec-230.060.130.280.9Mar-24Jan-240.0580.110.280.9Feb-240.280.9Mar-240.280.9HSE Audits VSAPInternalExternalTotalFY 23-242211235Jan'242619Loss of Primary Containment (LOPC)LTIFRTRIFR Tier-1Tier-2FY'240.0580.11FY21-2211FY22-2300FY23-2402Environmental Spills Year to Date Column1cOil Spills2Chemical Spills14Hydrocarbon leaks2934.2Million MahoursLast 12  MonthsLTIFRTRIFRLTIFR 2022  IOGP  Industry  AverageTRIFR 2022  IOGP  Industry  Average #Sensitivity: Internal (C3)\n",
      "Tables Content: \"LTIFR 2022: IOGP, TRIFR 2022: IOGP, : HiPo, : TRI, : LTI\" \": Last 12, LTIFR 2022: Industry, TRIFR 2022: Industry, : Apr-23, : 1, : 1, : 1\" \": Months, : LTIFR, : TRIFR, LTIFR 2022: Average, TRIFR 2022: Average, : May-23, : 2, : 1, : 1\" \": Column1, : Column2, : Column3, LTIFR 2022: Column4, TRIFR 2022: Column5, : Jun-23, : 3, : 0, : 0\" \": Apr-23, : 0.3, : 0.3, LTIFR 2022: 0.28, TRIFR 2022: 0.9, : Jul-23, : 2.0, : 0, : 0\" \": May-23, : 0.3, : 0.3, LTIFR 2022: 0.28, TRIFR 2022: 0.9, : Aug-23, : 0, : 0, : 0\" \": Jun-23, : 0.2, : 0.2, LTIFR 2022: 0.28, TRIFR 2022: 0.9, : Sep-23, : 0, : 0, : 0\" \": Jul-23, : 0.15, : 0.15, LTIFR 2022: 0.28, TRIFR 2022: 0.9, : Oct-23, : 2, : 2, : -\" \": Aug-23, : 0.12, : 0.12, LTIFR 2022: 0.28, TRIFR 2022: 0.9, : Nov-23, : 0, : -, : -\" \": Sep-23, : 0.1, : 0.1, LTIFR 2022: 0.28, TRIFR 2022: 0.9, : Dec-23, : 2.0, : 0, : -\" \": Oct-23, : 0.08, : 0.16, LTIFR 2022: 0.28, TRIFR 2022: 0.9, : Jan-24, : 0, : -, : -\" \": Nov-23, : 0.07, : 0.15, LTIFR 2022: 0.28, TRIFR 2022: 0.9, : Feb-24\" \": Dec-23, : 0.06, : 0.13, LTIFR 2022: 0.28, TRIFR 2022: 0.9, : Mar-24\" \": Jan-24, : 0.058, : 0.11, LTIFR 2022: 0.28, TRIFR 2022: 0.9\" \": Feb-24, LTIFR 2022: 0.28, TRIFR 2022: 0.9\" \": Mar-24, LTIFR 2022: 0.28, TRIFR 2022: 0.9, : HSE Audits\" \"LTIFR 2022: IOGP, TRIFR 2022: IOGP, : HiPo, : TRI, : LTI\" \": Last 12, LTIFR 2022: Industry, TRIFR 2022: Industry, : Apr-23, : 1, : 1, : 1\" \": Months, : LTIFR, : TRIFR, LTIFR 2022: Average, TRIFR 2022: Average, : May-23, : 2, : 1, : 1\" \": Column1, : Column2, : Column3, LTIFR 2022: Column4, TRIFR 2022: Column5, : Jun-23, : 3, : 0, : 0\" \": Apr-23, : 0.3, : 0.3, LTIFR 2022: 0.28, TRIFR 2022: 0.9, : Jul-23, : 2.0, : 0, : 0\" \": May-23, : 0.3, : 0.3, LTIFR 2022: 0.28, TRIFR 2022: 0.9, : Aug-23, : 0, : 0, : 0\" \": Jun-23, : 0.2, : 0.2, LTIFR 2022: 0.28, TRIFR 2022: 0.9, : Sep-23, : 0, : 0, : 0\" \": Jul-23, : 0.15, : 0.15, LTIFR 2022: 0.28, TRIFR 2022: 0.9, : Oct-23, : 2, : 2, : -\" \": Aug-23, : 0.12, : 0.12, LTIFR 2022: 0.28, TRIFR 2022: 0.9, : Nov-23, : 0, : -, : -\" \": Sep-23, : 0.1, : 0.1, LTIFR 2022: 0.28, TRIFR 2022: 0.9, : Dec-23, : 2.0, : 0, : -\" \": Oct-23, : 0.08, : 0.16, LTIFR 2022: 0.28, TRIFR 2022: 0.9, : Jan-24, : 0, : -, : -\" \": Nov-23, : 0.07, : 0.15, LTIFR 2022: 0.28, TRIFR 2022: 0.9, : Feb-24\" \": Dec-23, : 0.06, : 0.13, LTIFR 2022: 0.28, TRIFR 2022: 0.9, : Mar-24\" \": FY 23-24, VSAP: 2, Internal: 21, External: 12, : 35\" \": Jan'24, VSAP: 2, Internal: 6, External: 1, : 9\" \": FY'24, LTIFR: 0.058, TRIFR: 0.11, Million Mahours: 34.2, : FY21-22, Tier-1: 1, Tier-2: 1\" \": FY'24, LTIFR: 0.058, TRIFR: 0.11, Million Mahours: 34.2, : FY21-22, Tier-1: 1, Tier-2: 1\" \": FY22-23, Tier-1: 0, Tier-2: 0\" \": FY23-24, Tier-1: 0, Tier-2: 2\" \": Oil Spills, c: 2\" \": Chemical Spills, c: 14\" \": Hydrocarbon leaks, c: 29\"\n",
      "==================================================\n",
      "Page 4:\n",
      "Content: Cairn CairnRJ NorthMangalaBhagyamAishwariyaTight OilOthersRJ SouthRDGSatelliteHazarigaonCoastalRavvaCambayNGLJayaMonth Actual78.051.527.88.28.75.51.218.217.01.20.08.32.42.90.82.286.355.128.27.612.45.71.221.218.33.00.69.42.64.11.51.1Variance (%)-9.7%-6.6%-1.4%+8.0%-30.0%-2.5%+2.8%-14.3%-7.1%-58.6%-100.0%-11.5%-6.4%-30.3%-49.0%+95.4%Variance (kboepd)-8.3-3.6-0.4+0.6-3.7-0.1+0.0-3.0-1.3-1.8-0.6-1.1-0.2-1.3-0.7+1.1 Apr'24May'24Jun'24Jul'24Aug'24Sep'24Oct'24Nov'24Dec'24Jan'24Feb'24Mar'24Production86.886.188.488.486.784.582.080.778.578.0BP90.289.687.987.087.086.387.387.277.386.385.784.0Variance (%)-3.8%-3.9%+0.6%+1.6%-0.3%-2.1%-6.1%-7.5%+1.6%-9.7%Variance (kboepd)-3.4-3.5+0.5+1.4-0.3-1.8-5.3-6.6+1.2-8.3CAIRN MONTHLY PRODUCTION REPORT- JANUARY 244Cairn Oil & Gas Month BPkboepdkboepdJanuary 2024Monthly Production [net]Cairn gross production for the month of Dec stands at 78.5 kboepd, we achieved approx. 99% of the Business Plan.Volumes are on par with Business Plan for Dec’23 as  shutdown was postponed in RJ North. RJ South Volumes were lower in Dec owing to poor Satellite wells performance,RDG 8 wells revised work program, Coastal performed  less due to well deliverability issues in Coastal [RB-3st and GA-5]; Nagyalanka sales constraint slightly set off by ramp up of volumes from JayaAsset Performance RJ North : Achieved ~112% of  BP. RJ South : Achieved ~87.8% of  BP.  Coastal:   Achieved 81.2%  Hazarigaon:  Achieved ~33% of  BP. kboepdkboepdKey Levers: RJ_North: Volumes are mainly due  to  AUF 25 Inejction  delay &  Bhgayam BDZ Delay RJ South: Volumes are lower than  BP mainly due to Satellite Wells  poor perfromance, combined with  RDG Wells perfromance Coastal: Volumes are lower  due  to lower well  deliverability in  Ravva (RB 3st, RF-8), Cambay (LB  13, GA-05) and Nagylanka Well  delay  Hazarigaon: No Production during  the month due to no gas offtake  by AGCL 78.051.527.88.28.75.51.218.217.01.20.08.32.42.90.82.2Month BPMonth Actual 86.886.188.488.486.784.582.080.778.578.0BPProduction #Sensitivity: Internal (C3)\n",
      "Tables Content: \"RJ North: Achieved ~112% of: BP.\" \"RJ North: Achieved ~112% of: RJ South: Achieved ~87.8% of\" \": 51.5\" \"RJ North: Achieved ~112% of: BP.\" \"RJ North: Achieved ~112% of: Coastal:  Achieved 81.2%, : 27.8\" \"RJ North: Achieved ~112% of: Hazarigaon: Achieved ~33% of, : 18.2, : 17.0\" \"RJ North: Achieved ~112% of: BP., : 8.2 8.7, : 5.5, : 8.3\" \": 1.2, : 1.2, : 0.0, : 2.4, : 2.9, : 0.8, : 2.2\" \": Cairn, : RJ North, : Mangala, : Bhagyam AishwariyaTight Oil, : Others, : RJ South, : RDG, : Satellite, : Hazarigaon, : Coastal, : Ravva, : Cambay, : NGL, : Jaya\" \": 82.0, : 80.7, RJ South: Volumes are lower than: BP mainly due to Satellite Wells\" \": 78.5, : 78.0, RJ South: Volumes are lower than: poor perfromance, combined with\" \"RJ South: Volumes are lower than: RDG Wells perfromance\" \"RJ South: Volumes are lower than: Coastal: Volumes are lower  due\" \"RJ South: Volumes are lower than: to lower well  deliverability in\" \": Apr'24, : May'24, : Jun'24, : Jul'24, : Aug'24, 84.5: Sep'24, : Oct'24, : Nov'24, : Dec'24, : Jan'24, : Feb'24, : Mar'24, RJ South: Volumes are lower than: Ravva (RB 3st, RF-8), Cambay (LB\" \": Month Actual kboepd, Cairn: 78.0, RJ North: 51.5, Mangala: 27.8, Bhagyam AishwariyaTight Oil: 8.2 8.7 5.5, Others: 1.2, RJ South: 18.2, RDG: 17.0, Satellite: 1.2, Hazarigaon Coastal: 0.0 8.3, Ravva: 2.4, Cambay NGL: 2.9 0.8, Jaya: 2.2\" \": Month BP kboepd, Cairn: 86.3, RJ North: 55.1, Mangala: 28.2, Bhagyam AishwariyaTight Oil: 7.6 12.4 5.7, Others: 1.2, RJ South: 21.2, RDG: 18.3, Satellite: 3.0, Hazarigaon Coastal: 0.6 9.4, Ravva: 2.6, Cambay NGL: 4.1 1.5, Jaya: 1.1\" \": Variance (%), Cairn: -9.7%, RJ North: -6.6%, Mangala: -1.4%, Bhagyam AishwariyaTight Oil: +8.0% -30.0% -2.5%, Others: +2.8%, RJ South: -14.3%, RDG: -7.1%, Satellite: -58.6%, Hazarigaon Coastal: -100.0% -11.5%, Ravva: -6.4%, Cambay NGL: -30.3% -49.0%, Jaya: +95.4%\" \": Variance (kboepd), Cairn: -8.3, RJ North: -3.6, Mangala: -0.4, Bhagyam AishwariyaTight Oil: +0.6 -3.7 -0.1, Others: +0.0, RJ South: -3.0, RDG: -1.3, Satellite: -1.8, Hazarigaon Coastal: -0.6 -1.1, Ravva: -0.2, Cambay NGL: -1.3 -0.7, Jaya: +1.1\" \"Hazarigaon Coastal: BP Production, Cambay NGL: Key Levers:\" \"Cambay NGL: RJ_North: Volumes are mainly due\" \"Cairn: 86.8, RJ North: 86.1, Mangala: 88.4, Bhagyam AishwariyaTight Oil: 88.4, Cambay NGL: to  AUF 25 Inejction  delay &\" \"Bhagyam AishwariyaTight Oil: 86.7, Cambay NGL: Bhgayam BDZ Delay\" \"Bhagyam AishwariyaTight Oil: 84.5, Cambay NGL: RJ South: Volumes are lower than\" \"Ravva (RB 3st, RF-8), Cambay (L: 13, GA-05) and Nagylanka Well\" \": Production, : kboepd, Apr'24: 86.8, May'24: 86.1, Jun'24: 88.4, Jul'24: 88.4, Aug'24: 86.7, Sep'24: 84.5, Oct'24: 82.0, Nov'24: 80.7, Dec'24: 78.5, Jan'24: 78.0, Ravva (RB 3st, RF-8), Cambay (L: delay\" \"Ravva (RB 3st, RF-8), Cambay (L: Hazarigaon: No Production duri\" \": BP, : kboepd, Apr'24: 90.2, May'24: 89.6, Jun'24: 87.9, Jul'24: 87.0, Aug'24: 87.0, Sep'24: 86.3, Oct'24: 87.3, Nov'24: 87.2, Dec'24: 77.3, Jan'24: 86.3, Feb'24: 85.7, Mar'24: 84.0, Ravva (RB 3st, RF-8), Cambay (L: the month due to no gas offtake\"\n",
      "==================================================\n",
      "Page 5:\n",
      "Content: Cairn CairnRJ NorthMangalaBhagyamAishwariyaTight OilOthersRJ SouthRDGSatelliteHazarigaonCoastalRavvaCambayNGLJayaMonth Actual121.373.539.711.712.47.91.826.024.21.80.021.810.87.21.52.2135.778.740.310.917.78.11.730.426.14.30.626.111.610.43.01.1Variance (%)-10.6%-6.6%-1.4%+8.0%-30.0%-2.5%+2.8%-14.3%-7.1%-58.6%-100.0%-16.5%-6.4%-30.3%-49.0%+95.4%Variance (kboepd)-14.4-5.2-0.6+0.9-5.3-0.2+0.0-4.4-1.8-2.5-0.6-4.3-0.7-3.1-1.5+1.1 Apr'24May'24Jun'24Jul'24Aug'24Sep'24Oct'24Nov'24Dec'24Jan'24Feb'24Mar'24Production136.7135.7134.5139.0135.7131.1127.4121.3121.3121.3BP139.9138.9136.1135.2135.2133.3137.1135.7122.5135.7135.2131.6Variance (%)-2.3%-2.3%-1.1%+2.8%+0.4%-1.7%-7.1%-10.6%-0.9%-10.6%Variance (kboepd)-3.2-3.2-1.6+3.8+0.5-2.2-9.7-14.4-1.1-14.4CAIRN MONTHLY PRODUCTION REPORT- JANUARY 245kboepdKey Levers: RJ_North: Volumes are mainly  due to  AUF 25 Inejction  delay &  Bhgayam BDZ Delay RJ South: Volumes are lower than  BP mainly due to Satellite Wells  poor perfromance, combined  with RDG Wells perfromance Coastal: Volumes are lower  due  to lower well  deliverability in  Ravva (RB 3st, RF-8), Cambay  (LB 13, GA-05) and Nagylanka  Well delay Cairn Oil & GasMonthly Production [gross]January 2024Cairn gross production for the month of Jan stands at 121.3 kboepd, we achieved approx. 90% of the Business Plan.Volumes are lower w.r.t  Business Plan for Jan'24 Asset Performance RJ North : Achieved ~112%  of BP. RJ South : Achieved ~87.8%  of BP.  Coastal:   Achieved 81.2%  Hazarigaon:  Achieved ~33%  of BP.Month BPkboepd kboepdkboepd 121.373.539.711.712.47.91.826.024.21.80.021.810.87.21.52.2Month BPMonth Actual 136.7135.7134.5139.0135.7131.1127.4121.3121.3121.3BPProduction #Sensitivity: Internal (C3)\n",
      "Tables Content: \"RJ North: Achieved ~112%: of BP.\" \"RJ North: Achieved ~112%: RJ South: Achieved ~87.8%, : 73.5\" \"RJ North: Achieved ~112%: of BP.\" \"RJ North: Achieved ~112%: Coastal:  Achieved 81.2%, : 39.7\" \"RJ North: Achieved ~112%: Hazarigaon: Achieved ~33%, : 26.0, : 24.2, : 21.8\" \"RJ North: Achieved ~112%: of BP., : 11.7, : 12.4 7.9, : 1.8, : 1.8, : 0.0, : 10.8, : 7.2, : 1.5, : 2.2\" \": Cairn, : RJ North, : Mangala, : Bhagyam, : AishwariyaTight Oil, : Others, : RJ South, : RDG, : Satellite, : HazarigaoCnoastal, : Ravva, : Cambay, : NGL, : Jaya\" \": 127.4\" \"BP mainly due to Satellite Wells: poor perfromance, combined\" \": 121.3, : 121.3, : 121.3, BP mainly due to Satellite Wells: with RDG Wells perfromance\" \"BP mainly due to Satellite Wells: Coastal: Volumes are lower  due\" \"BP mainly due to Satellite Wells: to lower well  deliverability in\" \"BP mainly due to Satellite Wells: Ravva (RB 3st, RF-8), Cambay\" \"BP mainly due to Satellite Wells: (LB 13, GA-05) and Nagylanka\" \": Apr'24, : May'24, : Jun'24, : Jul'24, : Aug'24, : Sep'24, : Oct'24, : Nov'24, : Dec'24, : Jan'24, : Feb'24, : Mar'24\" \": Month Actual kboepd, Cairn: 121.3, RJ North: 73.5, Mangala: 39.7, Bhagyam: 11.7, AishwariyaTight Oil: 12.4 7.9, Others: 1.8, RJ South: 26.0, RDG: 24.2, Satellite: 1.8, HazarigaoCnoastal: 0.0 21.8, Ravva: 10.8, Cambay NGL: 7.2 1.5, Jaya: 2.2\" \": Month BP kboepd, Cairn: 135.7, RJ North: 78.7, Mangala: 40.3, Bhagyam: 10.9, AishwariyaTight Oil: 17.7 8.1, Others: 1.7, RJ South: 30.4, RDG: 26.1, Satellite: 4.3, HazarigaoCnoastal: 0.6 26.1, Ravva: 11.6, Cambay NGL: 10.4 3.0, Jaya: 1.1\" \": Variance (%), Cairn: -10.6%, RJ North: -6.6%, Mangala: -1.4%, Bhagyam: +8.0%, AishwariyaTight Oil: -30.0% -2.5%, Others: +2.8%, RJ South: -14.3%, RDG: -7.1%, Satellite: -58.6%, HazarigaoCnoastal: -100.0% -16.5%, Ravva: -6.4%, Cambay NGL: -30.3% -49.0%, Jaya: +95.4%\" \": Variance (kboepd), Cairn: -14.4, RJ North: -5.2, Mangala: -0.6, Bhagyam: +0.9, AishwariyaTight Oil: -5.3 -0.2, Others: +0.0, RJ South: -4.4, RDG: -1.8, Satellite: -2.5, HazarigaoCnoastal: -0.6 -4.3, Ravva: -0.7, Cambay NGL: -3.1 -1.5, Jaya: +1.1\" \"Cambay NGL: Key Levers:\" \"Cambay NGL: RJ_North: Volumes are mainly\" \"Satellite: BP, HazarigaoCnoastal: Production, Cambay NGL: due to  AUF 25 Inejction  delay &\" \"Cairn: 136.7, RJ North: 135.7, Mangala: 134.5, Bhagyam: 139.0, AishwariyaTight Oil: 135.7, Cambay NGL: Bhgayam BDZ Delay\" \"Cambay NGL: RJ South: Volumes are lower than\" \"AishwariyaTight Oil: 131.1, Cambay NGL: BP mainly due to Satellite Wells\"\n",
      "==================================================\n",
      "Page 6:\n",
      "Content: Apr-235213863985485293472326162146517174892395545885238782May-235214427692140305022312151930718188654587647795046847Jun-235213717890885286172329151533218181513990563293137594Jul-235314989696816330573005161700117185253726555140448840Aug-235414570294393319242695181667318191232920561973659842Sep-235413844089401284383771151681519195882552639084849794Oct-235213525288744269582777161675719186942740528687139794Nov-235313211184224269601887161902419180422763532876939179Dec-2354133631842482689722731420199211961432165801130939286Jan-245313186778736268242316152397622176876383455872436019Feb-24531318247944028344179316222321514649292926051091238000Mar-24541406428448130279210416237621414285320019191091238052YTD FY2453287074187701616745335313233217366767716111831335816434Apr-231459055510783143018103168718130328356May-231460945606774074016108369198136426256Jun-2314578855101171583018107879338120223547Jul-231560245755851804018112969758130222645Aug-231559225651881803017101998747119524746Sep-23165692543196163301892547329162928665Oct-231859245630112179301797107959148126045Nov-231856705354992143016889575161143221114Dec-231958835528104249301694267686139833083Jan-242060165545102365301592867842120623143Feb-24 19 8046 5443 98 2503 3 0 17 9908 8285 1330 285 5 2 Mar-24 19 8103 5443 98 2559 3 0 18 10779 9184 1330 257 6 2 YTD FY24 15 17787 16626 271 879 10 0 17 31938 27254 3870 781 14 19Electricity  from Grid  (Scope 2)RJ NorthRJ SouthGHG  Emission  IntensityAbsolute  Emissions  (Scope 1  + 2)Gas  Consump tion  (Scope 1)Gas  Flaring &  Venting  (Scope 1)Diesel  (Scope 1)LPG/Prop ane  (Scope 1)Electricity  from Grid  (Scope 2)GHG  Emission  Intensity)Absolute  Emissions  (Scope 1  + 2)Gas  Consump tion  (Scope 1)Gas  Flaring &  Venting  (Scope 1)Diesel  (Scope 1)kg  CO2/boetonnes of CO2ekg  CO2/boetonnes of CO2eLPG/Prop ane  (Scope 1) CambayRavva #Sensitivity: Internal (C3)\n",
      "Tables Content: \": GHG, : LPG/Prop, : Electricity, : GHG, : LPG/Prop, : Electricity\" \"Absolute: Emissions, Gas: Consump, Gas.1: Flaring & Diesel, Absolute.1: Emissions, Gas.2: Consump, Gas.3: Flaring & Diesel\" \": Emission, : ane, : from Grid, : Emission, : ane, : from Grid\" \"Absolute: (Scope 1, Gas: tion, Gas.1: Venting (Scope 1), Absolute.1: (Scope 1, Gas.2: tion, Gas.3: Venting (Scope 1)\" \": Intensity, : (Scope 1), : (Scope 2), : Intensity), : (Scope 1), : (Scope 2)\" \"Absolute: + 2), Gas: (Scope 1), Gas.1: (Scope 1), Absolute.1: + 2), Gas.2: (Scope 1), Gas.3: (Scope 1)\" \": kg, : kg\" \"Gas.1: tonnes of CO2e, Gas.3: tonnes of CO2e\" \": CO2/boe, : CO2/boe\" \"Gas.1: RJ North, Gas.3: RJ South\" \": Apr-23, : 52, Absolute: 138639, Gas: 85485, Gas.1: 29347 2326, : 16, : 21465, : 17, Absolute.1: 17489, Gas.2: 2395, Gas.3: 5458 852, : 3, : 8782\" \": May-23, : 52, Absolute: 144276, Gas: 92140, Gas.1: 30502 2312, : 15, : 19307, : 18, Absolute.1: 18865, Gas.2: 4587, Gas.3: 6477 950, : 4, : 6847\" \": Jun-23, : 52, Absolute: 137178, Gas: 90885, Gas.1: 28617 2329, : 15, : 15332, : 18, Absolute.1: 18151, Gas.2: 3990, Gas.3: 5632 931, : 3, : 7594\" \": Jul-23, : 53, Absolute: 149896, Gas: 96816, Gas.1: 33057 3005, : 16, : 17001, : 17, Absolute.1: 18525, Gas.2: 3726, Gas.3: 5551 404, : 4, : 8840\" \": Aug-23, : 54, Absolute: 145702, Gas: 94393, Gas.1: 31924 2695, : 18, : 16673, : 18, Absolute.1: 19123, Gas.2: 2920, Gas.3: 5619 736, : 5, : 9842\" \": Sep-23, : 54, Absolute: 138440, Gas: 89401, Gas.1: 28438 3771, : 15, : 16815, : 19, Absolute.1: 19588, Gas.2: 2552, Gas.3: 6390 848, : 4, : 9794\" \": Oct-23, : 52, Absolute: 135252, Gas: 88744, Gas.1: 26958 2777, : 16, : 16757, : 19, Absolute.1: 18694, Gas.2: 2740, Gas.3: 5286 871, : 3, : 9794\" \": Nov-23, : 53, Absolute: 132111, Gas: 84224, Gas.1: 26960 1887, : 16, : 19024, : 19, Absolute.1: 18042, Gas.2: 2763, Gas.3: 5328 769, : 3, : 9179\" \": Dec-23, : 54, Absolute: 133631, Gas: 84248, Gas.1: 26897 2273, : 14, : 20199, : 21, Absolute.1: 19614, Gas.2: 3216, Gas.3: 5801 1309, : 3, : 9286\" \": Jan-24, : 53, Absolute: 131867, Gas: 78736, Gas.1: 26824 2316, : 15, : 23976, : 22, Absolute.1: 17687, Gas.2: 6383, Gas.3: 4558 724, : 3, : 6019\" \": Feb-24, : 53, Absolute: 131824, Gas: 79440, Gas.1: 28344 1793, : 16, : 22232, : 15, Absolute.1: 14649, Gas.2: 2929, Gas.3: 2605 1091, : 23, : 8000\" \": Mar-24, : 54, Absolute: 140642, Gas: 84481, Gas.1: 30279 2104, : 16, : 23762, : 14, Absolute.1: 14285, Gas.2: 3200, Gas.3: 1919 1091, : 23, : 8052\" \": YTD FY24, : 53, Absolute: 287074, Gas: 187701, Gas.1: 61674 5335, : 31, : 32332, : 17, Absolute.1: 36676, Gas.2: 7716, Gas.3: 11183 1335, : 8, : 16434\" \": Apr-23, : 14, : 5905, : 5510, Cambay: 78, : 314, : 3, : 0, : 18, : 10316, : 8718, Ravva: 1303, : 283, : 5, : 6\" \": May-23, : 14, : 6094, : 5606, Cambay: 77, : 407, : 4, : 0, : 16, : 10836, : 9198, Ravva: 1364, : 262, : 5, : 6\" \": Jun-23, : 14, : 5788, : 5510, Cambay: 117, : 158, : 3, : 0, : 18, : 10787, : 9338, Ravva: 1202, : 235, : 4, : 7\" \": Jul-23, : 15, : 6024, : 5755, Cambay: 85, : 180, : 4, : 0, : 18, : 11296, : 9758, Ravva: 1302, : 226, : 4, : 5\" \": Aug-23, : 15, : 5922, : 5651, Cambay: 88, : 180, : 3, : 0, : 17, : 10199, : 8747, Ravva: 1195, : 247, : 4, : 6\" \": Sep-23, : 16, : 5692, : 5431, Cambay: 96, : 163, : 3, : 0, : 18, : 9254, : 7329, Ravva: 1629, : 286, : 6, : 5\" \": Oct-23, : 18, : 5924, : 5630, Cambay: 112, : 179, : 3, : 0, : 17, : 9710, : 7959, Ravva: 1481, : 260, : 4, : 5\" \": Nov-23, : 18, : 5670, : 5354, Cambay: 99, : 214, : 3, : 0, : 16, : 8895, : 7516, Ravva: 1143, : 221, : 11, : 4\" \": Dec-23, : 19, : 5883, : 5528, Cambay: 104, : 249, : 3, : 0, : 16, : 9426, : 7686, Ravva: 1398, : 330, : 8, : 3\" \": Jan-24, : 20, : 6016, : 5545, Cambay: 102, : 365, : 3, : 0, : 15, : 9286, : 7842, Ravva: 1206, : 231, : 4, : 3\" \": Feb-24, : 19, : 8046, : 5443, Cambay: 98, : 2503, : 3, : 0, : 17, : 9908, : 8285, Ravva: 1330, : 285, : 5, : 2\" \": Mar-24, : 19, : 8103, : 5443, Cambay: 98, : 2559, : 3, : 0, : 18, : 10779, : 9184, Ravva: 1330, : 257, : 6, : 2\" \": YTD FY24, : 15, : 17787, : 16626, Cambay: 271, : 879, : 10, : 0, : 17, : 31938, : 27254, Ravva: 3870, : 781, : 14, : 19\"\n",
      "==================================================\n",
      "Page 7:\n",
      "Content: Apr-231121373131124110.0008901.41800.1May-231121427132129310.0002500500.0Jun-231703322729690.0002.3801700.1Jul-2368872352890.0002.410001000.1Aug-233410681479211001.810001000Sep-232310341918421001.911001100Oct-23219532147327002.111001100Nov-2317.5775811.052182.636621.0217.392890.0021102.0120011.400.1Dec-2329.67121922.34171.3721,7510.367450.0019303.16006.400.0Jan-2431.5082294.311622131.3110.0019301001.100.0Feb-24433357152319411000.47007.100.1Mar-24403357152319411000.47007.100.1YTD FY24 51 3132 290 2830 11 0 0 4 22 0 2 20 0 0JayaHazarigaon #Sensitivity: Internal (C3)\n",
      "Tables Content: \": Apr-23, : 112.0, : 1373.0, : 131.0, Jaya: 1241, : 1.0, : 0.0, : 0, : 8.0, : 9, : 0, Hazarigaon: 1.41, : 8.0, : 0, : 0.1\" \": May-23, : 112.0, : 1427.0, : 132.0, Jaya: 1293, : 1.0, : 0.0, : 0, : 2.0, : 5, : 0, Hazarigaon: 0.0, : 5.0, : 0, : 0.0\" \": Jun-23, : 170.0, : 332.0, : 27.0, Jaya: 296, : 9.0, : 0.0, : 0, : 2.3, : 8, : 0, Hazarigaon: 1.0, : 7.0, : 0, : 0.1\" \": Jul-23, : 688.0, : 72.0, : 35.0, Jaya: 28, : 9.0, : 0.0, : 0, : 2.4, : 10, : 0, Hazarigaon: 0.0, : 10.0, : 0, : 0.1\" \": Aug-23, : 34.0, : 1068.0, : 147.0, Jaya: 921, : 1.0, : 0.0, : 0, : 1.8, : 10, : 0, Hazarigaon: 0.0, : 10.0, : 0, : 0.0\" \": Sep-23, : 23.0, : 1034.0, : 191.0, Jaya: 842, : 1.0, : 0.0, : 0, : 1.9, : 11, : 0, Hazarigaon: 0.0, : 11.0, : 0, : 0.0\" \": Oct-23, : 21.0, : 953.0, : 214.0, Jaya: 732, : 7.0, : 0.0, : 0, : 2.1, : 11, : 0, Hazarigaon: 0.0, : 11.0, : 0, : 0.0\" \": Nov-23, : 17.5775, : 811.052, : 182.636, Jaya: 621.021, : 7.39289, : 0.00211, : 0, : 2.0, : 12, : 0, Hazarigaon: 0.0, : 11.4, : 0, : 0.1\" \": Dec-23, : 29.6712, : 1922.34, : 171.372, Jaya: 1,751, : 0.36745, : 0.00193, : 0, : 3.1, : 6, : 0, Hazarigaon: 0.0, : 6.4, : 0, : 0.0\" \": Jan-24, : 31.508, : 2294.31, : 162.0, Jaya: 2131.31, : 1.0, : 0.00193, : 0, : 1, : 0, Hazarigaon: 0.0, : 1.1, : 0, : 0.0\" \": Feb-24, : 43.0, : 3357.0, : 152.0, Jaya: 3194, : 11.0, : 0.0, : 0, : 0.4, : 7, : 0, Hazarigaon: 0.0, : 7.1, : 0, : 0.1\" \": Mar-24, : 40.0, : 3357.0, : 152.0, Jaya: 3194, : 11.0, : 0.0, : 0, : 0.4, : 7, : 0, Hazarigaon: 0.0, : 7.1, : 0, : 0.1\" \": YTD FY24, : 51.0, : 3132.0, : 290.0, Jaya: 2830, : 11.0, : 0.0, : 0, : 4.0, : 22, : 0, Hazarigaon: 2.0, : 20.0, : 0, : 0.0\"\n",
      "==================================================\n",
      "Page 8:\n",
      "Content: CAIRN MONTHLY PRODUCTION REPORT- JANUARY 2418RJ NorthBU Performance  YTD FY 24 Production bopd#YTD Business Planbopd#YTD Variancebopd#RJ North had a production of 73.5 with the business plan of 77.5.  Majorly due to poor base wells performance, higher well downtime  due to well failures and workovers, delay in BDZ pilot & AUF  injection wells. Production managed by imrpoved performance post  focused JPCO, WBCO, fracs and workovers, along with sustained  performance from capex well. The focus for RJ North continues to  carrying ot fracs, workovers, WBCO, JPCO campaign, timely online  of CapEx wells and failed wells recovery while managing  intervention losses in Feb'24849758388381966808398081780386801547948966753787117869077618 0100002000030000400005000060000700008000090000 Apr-23May-23Jun-23Jul-23Aug-23Sep-23Oct-23Nov-23Dec-23Jan-24Feb-24Mar-24Production (boe/d) MangalaBhagyamAishwariyaTight OilOthersBusiness PlanRe-Forecast30.928.8BPACTUALOPEX MUSD18.118.0BPACTUALUNIT OPEX USD/boe #Sensitivity: Internal (C3)\n",
      "Tables Content: \n",
      "==================================================\n",
      "Page 9:\n",
      "Content: Coastal - Nagayalanka4000Scale MaxProduction Data303130313130313031312931AprMayJunJulAugSepOctNovDecJanFebMarFY-24 EstYTD FY24Re-Forecast86483678577113731435139711671215151812961178Actuals83881375113921225106311841172121515431296117811401122Business Plan7761578155115471537229827693066306330272929293822572124MonthApr-23May-23Jun-23Jul-23Aug-23Sep-23Oct-23Nov-23Dec-23Jan-24Feb-24Mar-24FY-24 EstVariance62-765-800-155-312-1235-1585-1894-1848-1484-1633-1760-1116-1002Actual93.1%1689.8%-1528.9%112.5%134.2%-617.1%-294.9%-162.4%-191.9%2605.6%-384.5%-202.5%Production EfficiencyMonthApr-23May-23Jun-23Jul-23Aug-23Sep-23Oct-23Nov-23Dec-23Jan-24Feb-24Mar-24FY-24 EstActual100.0%100.0%100.0%100.0%100.0%100.0%100.0%100.0%100.0%100.0%100.0%Forecast100.0%100.0%100.0%100.0%100.0%100.0%100.0%100.0%100.0%100.0%100.0%100.0%100.0%OPEXBPActualOPEX MUSD0.20.2UNIT OPEX USD/boe5.09.8 #Sensitivity: Internal (C3)\n",
      "Tables Content: \"30: Apr, 31: May, 30.1: Jun, 31.1: Jul, 31.2: Aug, 30.2: Sep, 31.3: Oct, 30.3: Nov, 31.4: Dec, 31.5: Jan, 29: Feb, 31.6: Mar, : FY-24 Est, : YTD FY24\" \": Re-Forecast, 30: 864, 31: 836, 30.1: 785, 31.1: 771, 31.2: 1373, 30.2: 1435, 31.3: 1397, 30.3: 1167, 31.4: 1215, 31.5: 1518, 29: 1296, 31.6: 1178\" \": Actuals, 30: 838, 31: 813, 30.1: 751, 31.1: 1392, 31.2: 1225, 30.2: 1063, 31.3: 1184, 30.3: 1172, 31.4: 1215, 31.5: 1543, 29: 1296, 31.6: 1178, : 1140, : 1122\" \": Business Plan, 30: 776, 31: 1578, 30.1: 1551, 31.1: 1547, 31.2: 1537, 30.2: 2298, 31.3: 2769, 30.3: 3066, 31.4: 3063, 31.5: 3027, 29: 2929, 31.6: 2938, : 2257, : 2124\" \": Month, 30: Apr-23, 31: May-23, 30.1: Jun-23, 31.1: Jul-23, 31.2: Aug-23, 30.2: Sep-23, 31.3: Oct-23, 30.3: Nov-23, 31.4: Dec-23, 31.5: Jan-24, 29: Feb-24, 31.6: Mar-24, : FY-24 Est\" \": Variance, 30: 62, 31: -765, 30.1: -800, 31.1: -155, 31.2: -312, 30.2: -1235, 31.3: -1585, 30.3: -1894, 31.4: -1848, 31.5: -1484, 29: -1633, 31.6: -1760, : -1116, : -1002\" \"Month: Actual, Apr-23: 100.0%, May-23: 100.0%, Jun-23: 100.0%, Jul-23: 100.0%, Aug-23: 100.0%, Sep-23: 100.0%, Oct-23: 100.0%, Nov-23: 100.0%, Dec-23: 100.0%, Jan-24: 100.0%, FY-24 Est: 100.0%\" \"Month: Forecast, Apr-23: 100.0%, May-23: 100.0%, Jun-23: 100.0%, Jul-23: 100.0%, Aug-23: 100.0%, Sep-23: 100.0%, Oct-23: 100.0%, Nov-23: 100.0%, Dec-23: 100.0%, Jan-24: 100.0%, Feb-24: 100.0%, Mar-24: 100.0%, FY-24 Est: 100.0%\" \": OPEX MUSD, BP: 0.2, Actual: 0.2\" \": UNIT OPEX USD/boe, BP: 5.0, Actual: 9.8\"\n",
      "==================================================\n",
      "Page 10:\n",
      "Content: CAIRN MONTHLY PRODUCTION REPORT- JANUARY 24 32Production Efficiency Note:  Production efficiency is calculated on the basis of unconstrained choke capacity2023 Actual%46.4%Coastal - JayaFor Jan total production was 2.2 Kboepd vs  Business Plan of 1.1 Kboepd. Increase in sales gas  basis plant inlet temperature reduction due to  cooler installation.Asset Performance  YTD FY 24 Productionbopd1011YTD Business Planbopd1127YTD Variancebopd-116 0.40.3BPActualOPEX MUSD10.64.8BPActualUNIT OPEX USD/boe27%28%2%0%35%54%53%59%75%84%0%50%100%Apr-23May-23Jun-23Jul-23Aug-23Sep-23Oct-23Nov-23Dec-23Jan-24Feb-24Mar-24Production Efficiency ForecastActual 3073114409501446141814781951218324122600112911291129112711271127112611261126112611241124050010001500200025003000 Apr-23May-23Jun-23Jul-23Aug-23Sep-23Oct-23Nov-23Dec-23Jan-24Feb-24Mar-24Production (boe/d) #Sensitivity: Internal (C3)\n",
      "Tables Content: \": YTD FY 24 Production, : bopd, : 1011\" \"1000: 500.0\" \": YTD Business Plan, : bopd, : 1127\" \": YTD Variance, : bopd, : -116\" \"1000: 0.0\" \"1000: 307.0, : Apr-23, : May-23, : Jun-23, : Jul-23, : Aug-23, : Sep-23, : Oct-23, : Nov-23, : Dec-23, : Jan-24, : Feb-24, : Mar-24\" \": Production Efficiency\" \": 2023 Actual, : %, : 46.4%\" \"1000: 311.0\"\n",
      "==================================================\n",
      "Page 11:\n",
      "Content: Coastal - Jaya3000Scale MaxProduction Data303130313130313031312931AprMayJunJulAugSepOctNovDecJanFebMarFY-24 EstYTD FY24Re-Forecast39243644074711261440136714231647223026002600Actuals307311440950144614181478195121832412260012571011Business Plan11291129112911271127112711261126112611261124112411261127MonthApr-23May-23Jun-23Jul-23Aug-23Sep-23Oct-23Nov-23Dec-23Jan-24Feb-24Mar-24FY-24 EstVariance-821-817-1085-1127-177319293353826105812881476131-116Actual-59.8%-61.6%-4.2%0.0%122.9%81.9%82.9%80.7%70.3%67.4%65.2%63.8%Production EfficiencyMonthApr-23May-23Jun-23Jul-23Aug-23Sep-23Oct-23Nov-23Dec-23Jan-24Feb-24Mar-24FY-24 EstActual27.2%27.6%1.6%0.0%35.2%53.6%52.5%59.0%75.0%84.0%46.4%Forecast34.7%38.6%30.0%27.0%35.2%53.6%52.5%59.0%75.0%84.0%93.0%100.0%56.8%OPEXBPActualOPEX MUSD0.360.33UNIT OPEX USD/boe10.564.83 #Sensitivity: Internal (C3)\n",
      "Tables Content: \"30: Apr, 31: May, 30.1: Jun, 31.1: Jul, 31.2: Aug, 30.2: Sep, 31.3: Oct, 30.3: Nov, 31.4: Dec, 31.5: Jan, 29: Feb, 31.6: Mar, : FY-24 Est, : YTD FY24\" \": Re-Forecast, 30: 392, 31: 436, 30.1: 440, 31.1: 747, 31.2: 1126, 30.2: 1440, 31.3: 1367, 30.3: 1423, 31.4: 1647, 31.5: 2230, 29: 2600, 31.6: 2600\" \": Actuals, 30: 307, 31: 311, 30.1: 44, 31.1: 0, 31.2: 950, 30.2: 1446, 31.3: 1418, 30.3: 1478, 31.4: 1951, 31.5: 2183, 29: 2412, 31.6: 2600, : 1257, : 1011\" \": Business Plan, 30: 1129, 31: 1129, 30.1: 1129, 31.1: 1127, 31.2: 1127, 30.2: 1127, 31.3: 1126, 30.3: 1126, 31.4: 1126, 31.5: 1126, 29: 1124, 31.6: 1124, : 1126, : 1127\" \": Month, 30: Apr-23, 31: May-23, 30.1: Jun-23, 31.1: Jul-23, 31.2: Aug-23, 30.2: Sep-23, 31.3: Oct-23, 30.3: Nov-23, 31.4: Dec-23, 31.5: Jan-24, 29: Feb-24, 31.6: Mar-24, : FY-24 Est\" \": Variance, 30: -821, 31: -817, 30.1: -1085, 31.1: -1127, 31.2: -177, 30.2: 319, 31.3: 293, 30.3: 353, 31.4: 826, 31.5: 1058, 29: 1288, 31.6: 1476, : 131, : -116\" \"Month: Actual, Apr-23: 27.2%, May-23: 27.6%, Jun-23: 1.6%, Jul-23: 0.0%, Aug-23: 35.2%, Sep-23: 53.6%, Oct-23: 52.5%, Nov-23: 59.0%, Dec-23: 75.0%, Jan-24: 84.0%, FY-24 Est: 46.4%\" \"Month: Forecast, Apr-23: 34.7%, May-23: 38.6%, Jun-23: 30.0%, Jul-23: 27.0%, Aug-23: 35.2%, Sep-23: 53.6%, Oct-23: 52.5%, Nov-23: 59.0%, Dec-23: 75.0%, Jan-24: 84.0%, Feb-24: 93.0%, Mar-24: 100.0%, FY-24 Est: 56.8%\" \": OPEX MUSD, BP: 0.36, Actual: 0.33\" \": UNIT OPEX USD/boe, BP: 10.56, Actual: 4.83\"\n",
      "==================================================\n"
     ]
    }
   ],
   "source": [
    "import json\n",
    "import tempfile\n",
    "import pandas as pd\n",
    "from PyPDF2 import PdfReader, PdfWriter\n",
    "from io import BytesIO\n",
    "from pdf2image import convert_from_bytes\n",
    "import pytesseract\n",
    "from tabula.io import read_pdf\n",
    "\n",
    "def convert_dataframe_to_strings(df):\n",
    "    \"\"\"Convert DataFrame rows to formatted strings.\"\"\"\n",
    "    rows_as_string = []\n",
    "    for index, row in df.iterrows():\n",
    "        row_components = []\n",
    "        for col in df.columns:\n",
    "            value = row[col]\n",
    "            col_name = col if \"Unnamed\" not in col else ''\n",
    "            if pd.notna(value):\n",
    "                row_components.append(f\"{col_name}: {value}\")\n",
    "        row_string = ', '.join(row_components).strip(', ')\n",
    "        row_string = f'\"{row_string}\"'\n",
    "        rows_as_string.append(row_string)\n",
    "    return \" \".join(rows_as_string)\n",
    "\n",
    "def parse_pdf_tables(page_binary):\n",
    "    \"\"\"Extract tables from the given PDF binary data.\"\"\"\n",
    "    with tempfile.NamedTemporaryFile(suffix=\".pdf\", delete=False) as temp_pdf:\n",
    "        temp_pdf.write(page_binary)  # Write the PDF content to a temporary file\n",
    "        temp_pdf_path = temp_pdf.name\n",
    "    \n",
    "    # Extract tables from the temporary PDF file\n",
    "    tables = read_pdf(temp_pdf_path, pages=\"1\", multiple_tables=True, stream=True)\n",
    "    temp_table_string = \"\"\n",
    "\n",
    "    # Use convert_dataframe_to_strings to format each table\n",
    "    for table in tables:\n",
    "        temp_table_string += convert_dataframe_to_strings(table) + \" \"\n",
    "\n",
    "    return temp_table_string.strip()\n",
    "\n",
    "def process_document_without_ocr(content):\n",
    "    \"\"\"Process the PDF document without OCR and extract text and tables page by page.\"\"\"\n",
    "    pdf_reader = PdfReader(BytesIO(content))\n",
    "    pages_content = []\n",
    "\n",
    "    for page_num, page in enumerate(pdf_reader.pages, start=1):\n",
    "        # Extract text from the page\n",
    "        page_text = page.extract_text() or ''\n",
    "        \n",
    "        # Create a temporary PDF containing only the current page\n",
    "        with tempfile.NamedTemporaryFile(suffix=\".pdf\", delete=False) as temp_pdf:\n",
    "            writer = PdfWriter()  # Create a PDF writer object\n",
    "            writer.add_page(page)  # Add the current page to the writer\n",
    "            writer.write(temp_pdf)  # Write the page to the temporary PDF file\n",
    "            \n",
    "            temp_pdf_path = temp_pdf.name  # Get the path of the temporary PDF\n",
    "\n",
    "        # Read the binary content of the temporary PDF for the current page\n",
    "        with open(temp_pdf_path, 'rb') as temp_pdf_read:\n",
    "            page_binary = temp_pdf_read.read()\n",
    "        \n",
    "        # Extract tables from the temporary PDF containing only the current page\n",
    "        tables_content = parse_pdf_tables(page_binary)\n",
    "        \n",
    "        # Construct the page data dictionary\n",
    "        page_data = {\n",
    "            \"page_number\": page_num,\n",
    "            \"content\": page_text.strip().replace(\"\\n\", \" \"),\n",
    "            \"tables_content\": tables_content\n",
    "        }\n",
    "        \n",
    "        print(page_data['tables_content'])  # Print the extracted table content\n",
    "        print(\"-\" * 50)\n",
    "        pages_content.append(page_data)  # Append page data to the list\n",
    "\n",
    "    return pages_content\n",
    "\n",
    "# Test with a sample PDF\n",
    "pdf_file_path = r\"C:\\Users\\SaiRamPenjarla\\Downloads\\Cairn Monthly Production Report_Jan'24 1.pdf\"\n",
    "\n",
    "with open(pdf_file_path, \"rb\") as f:\n",
    "    pdf_content = f.read()\n",
    "\n",
    "# Process the PDF without OCR\n",
    "result_without_ocr = process_document_without_ocr(pdf_content)\n",
    "\n",
    "# Optionally, print the results for verification\n",
    "for page in result_without_ocr:\n",
    "    print(f\"Page {page['page_number']}:\")\n",
    "    print(f\"Content: {page['content']}\")\n",
    "    print(f\"Tables Content: {page['tables_content']}\")\n",
    "    print(\"=\" * 50)\n"
   ]
  },
  {
   "cell_type": "code",
   "execution_count": null,
   "metadata": {},
   "outputs": [],
   "source": [
    "\n",
    "with open(r\"C:\\Users\\SaiRamPenjarla\\Downloads\\Cairn Monthly Production Report_Jan'24 1.pdf\", \"rb\") as f:\n",
    "    pdf_content = f.read()\n",
    "    \n",
    "parse_pdf_tables(pdf_content)"
   ]
  },
  {
   "cell_type": "markdown",
   "metadata": {},
   "source": [
    "# old"
   ]
  },
  {
   "cell_type": "code",
   "execution_count": 7,
   "metadata": {},
   "outputs": [],
   "source": [
    "import PyPDF2\n",
    "import pytesseract\n",
    "from io import BytesIO\n",
    "from pdf2image import convert_from_bytes\n",
    "from langchain_community.vectorstores import FAISS\n",
    "from langchain.text_splitter import RecursiveCharacterTextSplitter"
   ]
  },
  {
   "cell_type": "code",
   "execution_count": 8,
   "metadata": {},
   "outputs": [],
   "source": [
    "\n",
    "\n",
    "class DocumentReader:\n",
    "    def __init__(self, content: bytes, embedding_model):\n",
    "        self.chat_history = []\n",
    "        self.text = self.extract_text(content)\n",
    "        self.chunks = self.chunk_text(self.text)\n",
    "        self.retriver = self.vectorize_chunks(self.chunks, embedding_model)\n",
    "\n",
    "    def extract_text(self, content: bytes) -> str:\n",
    "        try:\n",
    "            pdf_reader = PyPDF2.PdfReader(BytesIO(content))\n",
    "            text = ''.join(page.extract_text() or '' for page in pdf_reader.pages)\n",
    "            if text.strip():\n",
    "                return text.strip()\n",
    "        except Exception as e:\n",
    "            print(e)\n",
    "            pass  # Fall back to OCR if text extraction fails\n",
    "\n",
    "        try:\n",
    "            images = convert_from_bytes(content)\n",
    "            return ''.join(pytesseract.image_to_string(image) for image in images).strip()\n",
    "        except Exception as e:\n",
    "            raise ValueError(f\"Error extracting text: {e}\")\n",
    "\n",
    "    def chunk_text(self, text: str):\n",
    "        text_splitter = RecursiveCharacterTextSplitter(chunk_size=1500, chunk_overlap=230)\n",
    "        return text_splitter.create_documents([text])\n",
    "\n",
    "    def vectorize_chunks(self, chunks, embedding_model):\n",
    "        vector_store = FAISS.from_documents(chunks, embedding=embedding_model)\n",
    "        return vector_store.as_retriever(search_type=\"mmr\")"
   ]
  },
  {
   "cell_type": "code",
   "execution_count": null,
   "metadata": {},
   "outputs": [],
   "source": [
    "from chat.rag_components.utils import load_gemini_model\n",
    "gemini_llm, gemini_embedding_model = load_gemini_model()"
   ]
  },
  {
   "cell_type": "code",
   "execution_count": null,
   "metadata": {},
   "outputs": [],
   "source": [
    "with open(\"Index.pdf\", 'rb') as file:\n",
    "    # Step 2: Read the content of the PDF file\n",
    "    content = file.read()\n",
    "DocumentReader(content, gemini_embedding_model)"
   ]
  },
  {
   "cell_type": "code",
   "execution_count": null,
   "metadata": {},
   "outputs": [],
   "source": [
    "pip install -qU langchain-community faiss-cpu"
   ]
  },
  {
   "cell_type": "code",
   "execution_count": 1,
   "metadata": {},
   "outputs": [],
   "source": [
    "from langchain.vectorstores.faiss import FAISS"
   ]
  },
  {
   "cell_type": "code",
   "execution_count": null,
   "metadata": {},
   "outputs": [],
   "source": [
    "from langchain_google_genai import GoogleGenerativeAIEmbeddings\n",
    "embedding_model = GoogleGenerativeAIEmbeddings(model=\"models/embedding-001\")"
   ]
  },
  {
   "cell_type": "code",
   "execution_count": null,
   "metadata": {},
   "outputs": [],
   "source": [
    "vector_store = FAISS.load_local('faiss_index_testing', embedding_model)"
   ]
  },
  {
   "cell_type": "code",
   "execution_count": 2,
   "metadata": {},
   "outputs": [
    {
     "data": {
      "text/plain": [
       "[{'a': 'b', 'c': 'd'}, {'a': 'b', 'c': 'd'}]"
      ]
     },
     "execution_count": 2,
     "metadata": {},
     "output_type": "execute_result"
    }
   ],
   "source": [
    "arr = [{\"a\":\"b\"}, {\"a\":\"b\"}]\n",
    "for i in arr:\n",
    "    i[\"c\"] = \"d\"\n",
    "\n",
    "arr"
   ]
  },
  {
   "cell_type": "code",
   "execution_count": null,
   "metadata": {},
   "outputs": [],
   "source": []
  }
 ],
 "metadata": {
  "kernelspec": {
   "display_name": "base",
   "language": "python",
   "name": "python3"
  },
  "language_info": {
   "codemirror_mode": {
    "name": "ipython",
    "version": 3
   },
   "file_extension": ".py",
   "mimetype": "text/x-python",
   "name": "python",
   "nbconvert_exporter": "python",
   "pygments_lexer": "ipython3",
   "version": "3.12.2"
  }
 },
 "nbformat": 4,
 "nbformat_minor": 2
}
